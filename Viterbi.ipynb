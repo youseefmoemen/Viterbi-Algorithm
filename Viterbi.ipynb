{
  "nbformat": 4,
  "nbformat_minor": 0,
  "metadata": {
    "colab": {
      "name": "Viterbi.ipynb",
      "provenance": [],
      "collapsed_sections": [],
      "authorship_tag": "ABX9TyMFBB76NGBym5jkrEwXDMXp",
      "include_colab_link": true
    },
    "kernelspec": {
      "name": "python3",
      "display_name": "Python 3"
    },
    "language_info": {
      "name": "python"
    }
  },
  "cells": [
    {
      "cell_type": "markdown",
      "metadata": {
        "id": "view-in-github",
        "colab_type": "text"
      },
      "source": [
        "<a href=\"https://colab.research.google.com/github/youseefmoemen/Viterbi-Algorithm/blob/main/Viterbi.ipynb\" target=\"_parent\"><img src=\"https://colab.research.google.com/assets/colab-badge.svg\" alt=\"Open In Colab\"/></a>"
      ]
    },
    {
      "cell_type": "code",
      "execution_count": 1,
      "metadata": {
        "id": "Vb3t054lojX6"
      },
      "outputs": [],
      "source": [
        "import numpy as np\n",
        "import networkx as nx\n",
        "import matplotlib.pyplot as plt"
      ]
    },
    {
      "cell_type": "code",
      "source": [
        "def Viterbi(prior, emittion, transition, states, observations):\n",
        "  values = np.zeros(shape = (len(states), len(observations)))\n",
        "  for idx, state in enumerate(states):\n",
        "    values[idx][0] = prior[state] * emittion[observations[0]][state]\n",
        "  for observation_idx, observation in enumerate(observations[1:]):\n",
        "    for state_idx, state in enumerate(states):\n",
        "      values[state_idx][observation_idx+1] = max(\n",
        "          [values[state_idx_][observation_idx] * transition[state_][state] *\n",
        "           emittion[observation][state]\n",
        "           for state_idx_, state_ in enumerate(states)]\n",
        "      )\n",
        "  path = []\n",
        "  for value in values.T:\n",
        "    path.append(states[np.argmax(value)])\n",
        "  return values, path"
      ],
      "metadata": {
        "id": "L4BHLOrtpsky"
      },
      "execution_count": 2,
      "outputs": []
    },
    {
      "cell_type": "code",
      "source": [
        "# Test Data\n",
        "prior_ = {\n",
        "    'sunny': 0.67, \n",
        "    'rainy': 0.33\n",
        "}\n",
        "states_ = ('sunny', 'rainy')\n",
        "observations_ = ['happy', 'happy', 'sad', 'sad', 'sad', 'happy']\n",
        "transition_ = {\n",
        "    'sunny': {\n",
        "        'sunny': 0.8,\n",
        "        'rainy': 0.2\n",
        "    },\n",
        "    'rainy': {\n",
        "        'sunny': 0.4,\n",
        "        'rainy': 0.6\n",
        "    }\n",
        "}\n",
        "emittion_ = {\n",
        "    'happy': {\n",
        "        'sunny': 0.8,\n",
        "        'rainy': 0.4\n",
        "    },\n",
        "    'sad': {\n",
        "        'sunny': 0.2, \n",
        "        'rainy': 0.6\n",
        "    }\n",
        "}"
      ],
      "metadata": {
        "id": "maf6gexYr213"
      },
      "execution_count": 3,
      "outputs": []
    },
    {
      "cell_type": "code",
      "source": [
        "mat, path = Viterbi(prior=prior_, emittion=emittion_, transition=transition_,\n",
        "        states = states_, observations=observations_)"
      ],
      "metadata": {
        "id": "_9rmQt0ysFs8"
      },
      "execution_count": 4,
      "outputs": []
    },
    {
      "cell_type": "code",
      "source": [
        "print(path)"
      ],
      "metadata": {
        "colab": {
          "base_uri": "https://localhost:8080/"
        },
        "id": "RULdDIdc2iPg",
        "outputId": "0da629d8-5df3-48c6-a8d4-c5706cf5b354"
      },
      "execution_count": 5,
      "outputs": [
        {
          "output_type": "stream",
          "name": "stdout",
          "text": [
            "['sunny', 'sunny', 'sunny', 'rainy', 'rainy', 'sunny']\n"
          ]
        }
      ]
    },
    {
      "cell_type": "code",
      "source": [
        "print(mat)"
      ],
      "metadata": {
        "colab": {
          "base_uri": "https://localhost:8080/"
        },
        "id": "jeXJH6qi2zhk",
        "outputId": "e6507a80-ec77-48a2-a826-d3057adc7b7b"
      },
      "execution_count": 6,
      "outputs": [
        {
          "output_type": "stream",
          "name": "stdout",
          "text": [
            "[[0.536      0.34304    0.0548864  0.00878182 0.00140509 0.00170719]\n",
            " [0.132      0.04288    0.0411648  0.01481933 0.00533496 0.00128039]]\n"
          ]
        }
      ]
    },
    {
      "cell_type": "code",
      "source": [
        "def func(transition, emittion):\n",
        "  G = nx.DiGraph()\n",
        "  for k in [transition_, emittion]:\n",
        "    for state_from in k:\n",
        "      for state_to in k[state_from]:\n",
        "        G.add_weighted_edges_from([(state_from, state_to,\n",
        "                                  k[state_from][state_to])])\n",
        "  return G   "
      ],
      "metadata": {
        "id": "JmkUz5tgwp4i"
      },
      "execution_count": 7,
      "outputs": []
    },
    {
      "cell_type": "code",
      "source": [
        "from IPython.core.pylabtools import figsize\n",
        "G = func(transition=transition_, emittion=emittion_)\n",
        "subax1 = plt.plot(figsize=(10, 10))\n",
        "nx.draw(G, with_labels=True, font_weight='bold')\n",
        "plt.show()"
      ],
      "metadata": {
        "id": "60CzUfz1-QK_",
        "colab": {
          "base_uri": "https://localhost:8080/",
          "height": 248
        },
        "outputId": "b5c59b2d-cfe2-4900-fba0-8dea501412a9"
      },
      "execution_count": 8,
      "outputs": [
        {
          "output_type": "display_data",
          "data": {
            "text/plain": [
              "<Figure size 432x288 with 1 Axes>"
            ],
            "image/png": "[encoded data removed]"
          },
          "metadata": {}
        }
      ]
    },
    {
      "cell_type": "code",
      "source": [
        "print('Hello, World')"
      ],
      "metadata": {
        "colab": {
          "base_uri": "https://localhost:8080/"
        },
        "id": "YN3HnbNqtyZ8",
        "outputId": "424216bd-b92b-4a5e-eadc-ae0e1a6bc9d4"
      },
      "execution_count": 9,
      "outputs": [
        {
          "output_type": "stream",
          "name": "stdout",
          "text": [
            "Hello, World\n"
          ]
        }
      ]
    }
  ]
}